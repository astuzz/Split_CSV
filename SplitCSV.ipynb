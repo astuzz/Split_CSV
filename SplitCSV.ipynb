{
 "cells": [
  {
   "cell_type": "markdown",
   "metadata": {},
   "source": [
    "Script para Split de Arquivo CSV em vários outros"
   ]
  },
  {
   "cell_type": "markdown",
   "metadata": {},
   "source": [
    "Libs"
   ]
  },
  {
   "cell_type": "code",
   "execution_count": 28,
   "metadata": {},
   "outputs": [],
   "source": [
    "import pandas as pd\n",
    "import os"
   ]
  },
  {
   "cell_type": "markdown",
   "metadata": {},
   "source": [
    "Parâmetros iniciais"
   ]
  },
  {
   "cell_type": "code",
   "execution_count": 29,
   "metadata": {},
   "outputs": [],
   "source": [
    "dir_in = \"in/\"\n",
    "dir_out =  \"out/\"\n",
    "linhas_por_split = 5"
   ]
  },
  {
   "cell_type": "markdown",
   "metadata": {},
   "source": [
    "Execução do SPLIT"
   ]
  },
  {
   "cell_type": "code",
   "execution_count": 30,
   "metadata": {},
   "outputs": [
    {
     "name": "stdout",
     "output_type": "stream",
     "text": [
      "Total: 1 arquivo(s).\n",
      "\n",
      "- O arquivo in/Arquivo_Final.csv foi dividido em 6 arquivo(s).\n"
     ]
    }
   ],
   "source": [
    "print(r\"Total:\",len(os.listdir(dir_in)),\"arquivo(s).\\n\")\n",
    "\n",
    "for arquivo in os.listdir(dir_in):\n",
    "    if arquivo.endswith(\".csv\"):\n",
    "        df = pd.read_csv(os.path.join(dir_in, arquivo))\n",
    "\n",
    "        print(r\"- O arquivo\",dir_in+arquivo,\"foi dividido em\",round((len(df)/linhas_por_split)),\"arquivo(s).\")\n",
    "\n",
    "        for linha in range(0, len(df), linhas_por_split):\n",
    "            df_split = df.loc[linha:linha + linhas_por_split-1]\n",
    "            df_split.to_csv(f'{dir_out}{arquivo.replace(\".csv\",\"\")}_split_{linha//linhas_por_split}.csv', index=False)\n",
    "\n",
    "            "
   ]
  }
 ],
 "metadata": {
  "kernelspec": {
   "display_name": "Python 3",
   "language": "python",
   "name": "python3"
  },
  "language_info": {
   "codemirror_mode": {
    "name": "ipython",
    "version": 3
   },
   "file_extension": ".py",
   "mimetype": "text/x-python",
   "name": "python",
   "nbconvert_exporter": "python",
   "pygments_lexer": "ipython3",
   "version": "3.13.0"
  }
 },
 "nbformat": 4,
 "nbformat_minor": 2
}
